{
 "cells": [
  {
   "attachments": {},
   "cell_type": "markdown",
   "metadata": {},
   "source": [
    "# duration prediction model\n",
    "2023-05-21  \n",
    "[mlops-zoomcamp](https://github.com/DataTalksClub/mlops-zoomcamp/tree/main)"
   ]
  },
  {
   "attachments": {},
   "cell_type": "markdown",
   "metadata": {},
   "source": [
    "### imports & check python version"
   ]
  },
  {
   "cell_type": "code",
   "execution_count": null,
   "metadata": {},
   "outputs": [],
   "source": [
    "!python -V\n",
    "\n",
    "import pandas as pd\n",
    "import pickle\n",
    "import seaborn as sns\n",
    "import matplotlib.pyplot as plt\n",
    "\n",
    "from sklearn.feature_extraction import DictVectorizer\n",
    "from sklearn.linear_model import LinearRegression\n",
    "from sklearn.linear_model import Lasso\n",
    "from sklearn.linear_model import Ridge\n",
    "\n",
    "from sklearn.metrics import mean_squared_error"
   ]
  },
  {
   "attachments": {},
   "cell_type": "markdown",
   "metadata": {},
   "source": [
    "#### load data"
   ]
  },
  {
   "cell_type": "code",
   "execution_count": null,
   "metadata": {},
   "outputs": [],
   "source": [
    "jan = pd.read_parquet('../data/yellow_tripdata_2022-01.parquet')\n",
    "\n",
    "# Q1. how many columns in jan data?\n",
    "jan.info()"
   ]
  },
  {
   "cell_type": "code",
   "execution_count": null,
   "metadata": {},
   "outputs": [],
   "source": [
    "jan['duration'] = jan['tpep_dropoff_datetime'] - jan['tpep_pickup_datetime']\n",
    "jan['duration'] = jan['duration'].apply(lambda td: td.total_seconds() / 60)\n",
    "\n",
    "# Q2. stdev of jan trip duration\n",
    "jan['duration'].describe()"
   ]
  },
  {
   "cell_type": "code",
   "execution_count": null,
   "metadata": {},
   "outputs": [],
   "source": [
    "# Q3. drop outliers, what fraction of full dataset is left?\n",
    "jan_dropped_outliers = jan[(jan['duration'] >= 1) & (jan['duration'] <=60)]\n",
    "jan_dropped_outliers.shape[0] / jan.shape[0]"
   ]
  },
  {
   "cell_type": "code",
   "execution_count": null,
   "metadata": {},
   "outputs": [],
   "source": [
    "# Q4. one-hot encoding - dimensionality of resulting matrix?\n",
    "categorical = ['PULocationID', 'DOLocationID']\n",
    "numerical = ['trip_distance']\n",
    "\n",
    "jan_dropped_outliers[categorical] = jan_dropped_outliers[categorical].astype(str)\n",
    "\n",
    "# train_dicts = jan_dropped_outliers[categorical + numerical].to_dict(orient='records')\n",
    "train_dicts = jan_dropped_outliers[categorical].to_dict(orient='records')\n",
    "\n",
    "dv = DictVectorizer()\n",
    "X_train = dv.fit_transform(train_dicts)\n",
    "X_train.shape[1]"
   ]
  },
  {
   "cell_type": "code",
   "execution_count": null,
   "metadata": {},
   "outputs": [],
   "source": [
    "# Q5. what is the RSME on training data?\n",
    "target = 'duration'\n",
    "y_train = jan_dropped_outliers[target].values\n",
    "\n",
    "lr = LinearRegression()\n",
    "lr.fit(X_train, y_train)\n",
    "\n",
    "y_pred = lr.predict(X_train)\n",
    "\n",
    "mean_squared_error(y_train, y_pred, squared=False)"
   ]
  },
  {
   "cell_type": "code",
   "execution_count": null,
   "metadata": {},
   "outputs": [],
   "source": [
    "# Q6. what is the RSME on validation data?\n",
    "feb = pd.read_parquet('../data/yellow_tripdata_2022-02.parquet')\n",
    "\n",
    "feb['duration'] = feb['tpep_dropoff_datetime'] - feb['tpep_pickup_datetime']\n",
    "feb['duration'] = feb['duration'].apply(lambda td: td.total_seconds() / 60)\n",
    "\n",
    "feb_dropped_outliers = feb[(feb['duration'] >= 1) & (feb['duration'] <=60)]\n",
    "\n",
    "categorical = ['PULocationID', 'DOLocationID']\n",
    "numerical = ['trip_distance']\n",
    "\n",
    "feb_dropped_outliers[categorical] = feb_dropped_outliers[categorical].astype(str)\n",
    "\n",
    "# test_dicts = feb_dropped_outliers[categorical + numerical].to_dict(orient='records')\n",
    "test_dicts = feb_dropped_outliers[categorical].to_dict(orient='records')\n",
    "\n",
    "X_test = dv.transform(test_dicts)\n",
    "y_test = feb_dropped_outliers['duration'].values\n",
    "\n",
    "validation_preds = lr.predict(X_test)\n",
    "mean_squared_error(y_test, validation_preds, squared=False)"
   ]
  },
  {
   "cell_type": "code",
   "execution_count": null,
   "metadata": {},
   "outputs": [],
   "source": [
    "# with open('../models/lin_reg.bin', 'wb') as f_out:\n",
    "#     pickle.dump((dv, lr), f_out)"
   ]
  },
  {
   "cell_type": "code",
   "execution_count": null,
   "metadata": {},
   "outputs": [],
   "source": []
  }
 ],
 "metadata": {
  "kernelspec": {
   "display_name": "base",
   "language": "python",
   "name": "python3"
  },
  "language_info": {
   "codemirror_mode": {
    "name": "ipython",
    "version": 3
   },
   "file_extension": ".py",
   "mimetype": "text/x-python",
   "name": "python",
   "nbconvert_exporter": "python",
   "pygments_lexer": "ipython3",
   "version": "3.10.9"
  },
  "orig_nbformat": 4
 },
 "nbformat": 4,
 "nbformat_minor": 2
}
